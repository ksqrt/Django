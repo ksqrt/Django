{
 "cells": [
  {
   "cell_type": "code",
   "execution_count": 2,
   "metadata": {},
   "outputs": [
    {
     "name": "stdout",
     "output_type": "stream",
     "text": [
      "<class 'str'>\n",
      "{\n",
      "<class 'str'>\n",
      "  \"direction\": \"REQ\",\n",
      "<class 'str'>\n",
      "  \"CommandID\": 2,\n",
      "<class 'str'>\n",
      "  \"Command\": \"TRIG\",\n",
      "<class 'str'>\n",
      "  \"TRIGGER_ID\": 1,\n",
      "<class 'str'>\n",
      "  \"LOG_ID\": 1\n",
      "<class 'str'>\n",
      "}\n"
     ]
    }
   ],
   "source": [
    "with open('/home/test/Django/httpserver/media/result/test_3OpVsZI.json', encoding='utf-8') as txtfile:\n",
    "    for row in txtfile.readlines():\n",
    "        print(type(row))\n",
    "        print(row, end='')\n"
   ]
  }
 ],
 "metadata": {
  "kernelspec": {
   "display_name": "Python 3.8.10 64-bit",
   "language": "python",
   "name": "python3"
  },
  "language_info": {
   "codemirror_mode": {
    "name": "ipython",
    "version": 3
   },
   "file_extension": ".py",
   "mimetype": "text/x-python",
   "name": "python",
   "nbconvert_exporter": "python",
   "pygments_lexer": "ipython3",
   "version": "3.8.10"
  },
  "orig_nbformat": 4,
  "vscode": {
   "interpreter": {
    "hash": "916dbcbb3f70747c44a77c7bcd40155683ae19c65e1c03b4aa3499c5328201f1"
   }
  }
 },
 "nbformat": 4,
 "nbformat_minor": 2
}
