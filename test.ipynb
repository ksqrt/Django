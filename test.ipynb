{
 "cells": [
  {
   "cell_type": "code",
   "execution_count": 3,
   "metadata": {},
   "outputs": [
    {
     "name": "stdout",
     "output_type": "stream",
     "text": [
      "Server running on port:8000\n"
     ]
    },
    {
     "name": "stderr",
     "output_type": "stream",
     "text": [
      "111.111.1.78 - - [25/Jul/2022 13:41:46] \"GET / HTTP/1.1\" 200 -\n",
      "111.111.1.78 - - [25/Jul/2022 13:41:47] \"GET /null HTTP/1.1\" 200 -\n",
      "111.111.1.78 - - [25/Jul/2022 13:41:47] \"GET /favicon.ico HTTP/1.1\" 200 -\n",
      "111.111.1.78 - - [25/Jul/2022 13:41:53] code 501, message Unsupported method ('POST')\n",
      "111.111.1.78 - - [25/Jul/2022 13:41:53] \"POST / HTTP/1.1\" 501 -\n",
      "111.111.1.78 - - [25/Jul/2022 13:59:40] \"GET / HTTP/1.1\" 200 -\n",
      "111.111.1.78 - - [25/Jul/2022 13:59:40] \"GET /null HTTP/1.1\" 200 -\n",
      "111.111.1.78 - - [25/Jul/2022 13:59:40] \"GET /favicon.ico HTTP/1.1\" 200 -\n",
      "111.111.1.78 - - [25/Jul/2022 13:59:46] code 501, message Unsupported method ('POST')\n",
      "111.111.1.78 - - [25/Jul/2022 13:59:46] \"POST / HTTP/1.1\" 501 -\n",
      "111.111.1.78 - - [25/Jul/2022 14:01:00] code 501, message Unsupported method ('POST')\n",
      "111.111.1.78 - - [25/Jul/2022 14:01:00] \"POST / HTTP/1.1\" 501 -\n",
      "111.111.1.78 - - [25/Jul/2022 14:01:03] code 501, message Unsupported method ('POST')\n",
      "111.111.1.78 - - [25/Jul/2022 14:01:03] \"POST / HTTP/1.1\" 501 -\n"
     ]
    }
   ],
   "source": [
    "from http.server import BaseHTTPRequestHandler, HTTPServer\n",
    "\n",
    "port = 8000\n",
    "\n",
    "class SimpleHTTPRequestHandler(BaseHTTPRequestHandler):\n",
    "    def do_GET(self):\n",
    "        self.send_response(200)\n",
    "        self.send_header('Content-Type', 'text/html; charset=utf-8')\n",
    "        self.end_headers()\n",
    "        self.wfile.write('<h1>안녕하세요</h1>'.encode('utf-8'))\n",
    "\n",
    "httpd = HTTPServer(('0.0.0.0', port), SimpleHTTPRequestHandler)\n",
    "print(f'Server running on port:{port}')\n",
    "httpd.serve_forever()\n",
    "\n"
   ]
  },
  {
   "cell_type": "markdown",
   "metadata": {},
   "source": []
  }
 ],
 "metadata": {
  "kernelspec": {
   "display_name": "Python 3.8.10 64-bit",
   "language": "python",
   "name": "python3"
  },
  "language_info": {
   "codemirror_mode": {
    "name": "ipython",
    "version": 3
   },
   "file_extension": ".py",
   "mimetype": "text/x-python",
   "name": "python",
   "nbconvert_exporter": "python",
   "pygments_lexer": "ipython3",
   "version": "3.8.10"
  },
  "orig_nbformat": 4,
  "vscode": {
   "interpreter": {
    "hash": "916dbcbb3f70747c44a77c7bcd40155683ae19c65e1c03b4aa3499c5328201f1"
   }
  }
 },
 "nbformat": 4,
 "nbformat_minor": 2
}
